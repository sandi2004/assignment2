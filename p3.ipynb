{
 "cells": [
  {
   "cell_type": "code",
   "execution_count": 2,
   "id": "efd8eb49-e13f-436f-8aee-333fd172d00f",
   "metadata": {},
   "outputs": [],
   "source": [
    "d={}"
   ]
  },
  {
   "cell_type": "code",
   "execution_count": 3,
   "id": "e38380a0-fa63-44df-8c92-a9859e127a5d",
   "metadata": {},
   "outputs": [
    {
     "data": {
      "text/plain": [
       "{}"
      ]
     },
     "execution_count": 3,
     "metadata": {},
     "output_type": "execute_result"
    }
   ],
   "source": [
    "d"
   ]
  },
  {
   "cell_type": "code",
   "execution_count": 5,
   "id": "261565e9-af0f-4e38-962f-0718458d21ff",
   "metadata": {},
   "outputs": [
    {
     "data": {
      "text/plain": [
       "dict"
      ]
     },
     "execution_count": 5,
     "metadata": {},
     "output_type": "execute_result"
    }
   ],
   "source": [
    "type(d)"
   ]
  },
  {
   "cell_type": "code",
   "execution_count": 6,
   "id": "d79da93c-fad3-4955-97dd-586d275c1df3",
   "metadata": {},
   "outputs": [],
   "source": [
    "d1={4}"
   ]
  },
  {
   "cell_type": "code",
   "execution_count": 7,
   "id": "9d5120de-e4bc-4d5f-bb32-1fae2c204ffe",
   "metadata": {},
   "outputs": [
    {
     "data": {
      "text/plain": [
       "set"
      ]
     },
     "execution_count": 7,
     "metadata": {},
     "output_type": "execute_result"
    }
   ],
   "source": [
    "type(d1)"
   ]
  },
  {
   "cell_type": "code",
   "execution_count": 8,
   "id": "f8961dc0-24a4-4459-8c2d-94b470790e46",
   "metadata": {},
   "outputs": [],
   "source": [
    "d1={'key':\"sandi\"}"
   ]
  },
  {
   "cell_type": "code",
   "execution_count": 9,
   "id": "9df1e29f-a381-400c-8dc2-8b5b8b2b87f7",
   "metadata": {},
   "outputs": [
    {
     "data": {
      "text/plain": [
       "{'key': 'sandi'}"
      ]
     },
     "execution_count": 9,
     "metadata": {},
     "output_type": "execute_result"
    }
   ],
   "source": [
    "d1"
   ]
  },
  {
   "cell_type": "code",
   "execution_count": 11,
   "id": "49c8cc3d-b767-4f7a-b67c-eb2737a94d1d",
   "metadata": {},
   "outputs": [
    {
     "data": {
      "text/plain": [
       "dict"
      ]
     },
     "execution_count": 11,
     "metadata": {},
     "output_type": "execute_result"
    }
   ],
   "source": [
    "type(d1)"
   ]
  },
  {
   "cell_type": "code",
   "execution_count": 18,
   "id": "0130a5c5-82ca-496e-83f2-f5cf40004199",
   "metadata": {},
   "outputs": [],
   "source": [
    "d2={'name':'sandeep','email':'xyz','mobil  no':8840179412}"
   ]
  },
  {
   "cell_type": "code",
   "execution_count": 19,
   "id": "77242b0f-e78d-40b4-ab67-488992af87c9",
   "metadata": {},
   "outputs": [
    {
     "data": {
      "text/plain": [
       "{'name': 'sandeep', 'email': 'xyz', 'mobil  no': 8840179412}"
      ]
     },
     "execution_count": 19,
     "metadata": {},
     "output_type": "execute_result"
    }
   ],
   "source": [
    "d2"
   ]
  },
  {
   "cell_type": "code",
   "execution_count": 15,
   "id": "5830b6a7-2de2-4280-85b5-df6fe58a0c1e",
   "metadata": {},
   "outputs": [],
   "source": [
    "d3={234:\"sandi\"}"
   ]
  },
  {
   "cell_type": "code",
   "execution_count": 16,
   "id": "64a78121-a014-4de2-893f-0cf42bbc6770",
   "metadata": {},
   "outputs": [
    {
     "data": {
      "text/plain": [
       "{234: 'sandi'}"
      ]
     },
     "execution_count": 16,
     "metadata": {},
     "output_type": "execute_result"
    }
   ],
   "source": [
    "d3"
   ]
  },
  {
   "cell_type": "code",
   "execution_count": 17,
   "id": "3649ca51-2a97-4def-9951-e0d289011224",
   "metadata": {},
   "outputs": [
    {
     "ename": "SyntaxError",
     "evalue": "invalid syntax (606397168.py, line 1)",
     "output_type": "error",
     "traceback": [
      "\u001b[0;36m  Cell \u001b[0;32mIn[17], line 1\u001b[0;36m\u001b[0m\n\u001b[0;31m    d4={@i5:'sandi'}\u001b[0m\n\u001b[0m        ^\u001b[0m\n\u001b[0;31mSyntaxError\u001b[0m\u001b[0;31m:\u001b[0m invalid syntax\n"
     ]
    }
   ],
   "source": [
    "d4={@i5:'sandi'}"
   ]
  },
  {
   "cell_type": "code",
   "execution_count": 24,
   "id": "785180fb-faec-4878-baae-cdf6f91f9816",
   "metadata": {},
   "outputs": [
    {
     "data": {
      "text/plain": [
       "'sandeep'"
      ]
     },
     "execution_count": 24,
     "metadata": {},
     "output_type": "execute_result"
    }
   ],
   "source": [
    "d2['name']"
   ]
  },
  {
   "cell_type": "code",
   "execution_count": 32,
   "id": "afee0f13-7c91-4a21-be9d-0ba5fe140dac",
   "metadata": {},
   "outputs": [],
   "source": [
    "d5={'name':'sandeep','email':'@gmail.com','name1':'babu'}"
   ]
  },
  {
   "cell_type": "code",
   "execution_count": 33,
   "id": "13dd4754-753d-463f-8f0d-43168d1f894b",
   "metadata": {},
   "outputs": [
    {
     "data": {
      "text/plain": [
       "{'name': 'sandeep', 'email': '@gmail.com', 'name1': 'babu'}"
      ]
     },
     "execution_count": 33,
     "metadata": {},
     "output_type": "execute_result"
    }
   ],
   "source": [
    "d5"
   ]
  },
  {
   "cell_type": "code",
   "execution_count": 34,
   "id": "4e95c7d7-dc8d-4973-b921-e5d4e10dbd58",
   "metadata": {},
   "outputs": [
    {
     "data": {
      "text/plain": [
       "'sandeep'"
      ]
     },
     "execution_count": 34,
     "metadata": {},
     "output_type": "execute_result"
    }
   ],
   "source": [
    "d5['name']"
   ]
  },
  {
   "cell_type": "code",
   "execution_count": 35,
   "id": "9b1ea2ff-5b93-46f8-aa8b-5450faea5e2b",
   "metadata": {},
   "outputs": [],
   "source": [
    "##last vale is obtained as out come"
   ]
  },
  {
   "cell_type": "code",
   "execution_count": 36,
   "id": "7e995678-921f-429c-ab8d-d4625775bd69",
   "metadata": {},
   "outputs": [],
   "source": [
    "d6={'company':'pwskills','course':['data sceince','java','webdev']}"
   ]
  },
  {
   "cell_type": "code",
   "execution_count": 37,
   "id": "574932ad-e631-472f-a901-e4feab75fdf8",
   "metadata": {},
   "outputs": [
    {
     "data": {
      "text/plain": [
       "'data sceince'"
      ]
     },
     "execution_count": 37,
     "metadata": {},
     "output_type": "execute_result"
    }
   ],
   "source": [
    "d6['course'][0]"
   ]
  },
  {
   "cell_type": "code",
   "execution_count": 38,
   "id": "68c3ef2a-46d3-485e-a803-2b152c60f8bd",
   "metadata": {},
   "outputs": [
    {
     "data": {
      "text/plain": [
       "'webdev'"
      ]
     },
     "execution_count": 38,
     "metadata": {},
     "output_type": "execute_result"
    }
   ],
   "source": [
    "d6['course'][2]"
   ]
  },
  {
   "cell_type": "code",
   "execution_count": 48,
   "id": "1648565e-667e-4e1d-93ab-da5cfc8a61d8",
   "metadata": {},
   "outputs": [],
   "source": [
    "d7={'number':[1,2,3,4,5,84,93,80],'assignment':(1,2,3,4,5),'launchdate':{2,4,6},'class_time':{'wevdev':8,'data_science':7}}"
   ]
  },
  {
   "cell_type": "code",
   "execution_count": 49,
   "id": "164c7ceb-6525-4f59-abd8-95a981b736ae",
   "metadata": {},
   "outputs": [
    {
     "data": {
      "text/plain": [
       "{'number': [1, 2, 3, 4, 5, 84, 93, 80],\n",
       " 'assignment': (1, 2, 3, 4, 5),\n",
       " 'launchdate': {2, 4, 6},\n",
       " 'class_time': {'wevdev': 8, 'data_science': 7}}"
      ]
     },
     "execution_count": 49,
     "metadata": {},
     "output_type": "execute_result"
    }
   ],
   "source": [
    "d7"
   ]
  },
  {
   "cell_type": "code",
   "execution_count": 50,
   "id": "f26a003e-062b-43ad-9749-7ee93ad0d156",
   "metadata": {},
   "outputs": [
    {
     "data": {
      "text/plain": [
       "8"
      ]
     },
     "execution_count": 50,
     "metadata": {},
     "output_type": "execute_result"
    }
   ],
   "source": [
    "d7['class_time']['wevdev']"
   ]
  },
  {
   "cell_type": "code",
   "execution_count": 51,
   "id": "18cc7e08-d3c5-46f2-8835-28e172983886",
   "metadata": {},
   "outputs": [],
   "source": [
    "d7['mentor']=['anurag','gautam','siddharth']"
   ]
  },
  {
   "cell_type": "code",
   "execution_count": 52,
   "id": "801d3bf6-3d40-4c8c-bcf3-dafb75905fc8",
   "metadata": {},
   "outputs": [
    {
     "data": {
      "text/plain": [
       "{'number': [1, 2, 3, 4, 5, 84, 93, 80],\n",
       " 'assignment': (1, 2, 3, 4, 5),\n",
       " 'launchdate': {2, 4, 6},\n",
       " 'class_time': {'wevdev': 8, 'data_science': 7},\n",
       " 'mentor': ['anurag', 'gautam', 'siddharth']}"
      ]
     },
     "execution_count": 52,
     "metadata": {},
     "output_type": "execute_result"
    }
   ],
   "source": [
    "d7"
   ]
  },
  {
   "cell_type": "code",
   "execution_count": 54,
   "id": "e4ab8aa0-baaf-4ab4-98dc-a32e958701e4",
   "metadata": {},
   "outputs": [],
   "source": [
    "del d7['number']"
   ]
  },
  {
   "cell_type": "code",
   "execution_count": 55,
   "id": "d708eadf-e6fc-4628-ab49-70a41ce5559f",
   "metadata": {},
   "outputs": [
    {
     "data": {
      "text/plain": [
       "{'assignment': (1, 2, 3, 4, 5),\n",
       " 'launchdate': {2, 4, 6},\n",
       " 'class_time': {'wevdev': 8, 'data_science': 7},\n",
       " 'mentor': ['anurag', 'gautam', 'siddharth']}"
      ]
     },
     "execution_count": 55,
     "metadata": {},
     "output_type": "execute_result"
    }
   ],
   "source": [
    "d7"
   ]
  },
  {
   "cell_type": "code",
   "execution_count": 56,
   "id": "69c6e43f-67a3-4414-b6a3-1dfe582e91f8",
   "metadata": {},
   "outputs": [
    {
     "data": {
      "text/plain": [
       "dict_keys(['assignment', 'launchdate', 'class_time', 'mentor'])"
      ]
     },
     "execution_count": 56,
     "metadata": {},
     "output_type": "execute_result"
    }
   ],
   "source": [
    "d7.keys()"
   ]
  },
  {
   "cell_type": "code",
   "execution_count": 58,
   "id": "0f8e1cfa-f687-4ed1-8d3b-976a73e36152",
   "metadata": {},
   "outputs": [
    {
     "data": {
      "text/plain": [
       "['assignment', 'launchdate', 'class_time', 'mentor']"
      ]
     },
     "execution_count": 58,
     "metadata": {},
     "output_type": "execute_result"
    }
   ],
   "source": [
    "list(d7.keys())"
   ]
  },
  {
   "cell_type": "code",
   "execution_count": 60,
   "id": "65cedbfc-ef08-45ee-bc0d-ac3f193c2942",
   "metadata": {},
   "outputs": [
    {
     "data": {
      "text/plain": [
       "[('assignment', (1, 2, 3, 4, 5)),\n",
       " ('launchdate', {2, 4, 6}),\n",
       " ('class_time', {'wevdev': 8, 'data_science': 7}),\n",
       " ('mentor', ['anurag', 'gautam', 'siddharth'])]"
      ]
     },
     "execution_count": 60,
     "metadata": {},
     "output_type": "execute_result"
    }
   ],
   "source": [
    "list(d7.items())"
   ]
  },
  {
   "cell_type": "code",
   "execution_count": 61,
   "id": "c6310b56-ee99-47bb-a1e9-1a8d8cb9f1d7",
   "metadata": {},
   "outputs": [
    {
     "data": {
      "text/plain": [
       "[(1, 2, 3, 4, 5),\n",
       " {2, 4, 6},\n",
       " {'wevdev': 8, 'data_science': 7},\n",
       " ['anurag', 'gautam', 'siddharth']]"
      ]
     },
     "execution_count": 61,
     "metadata": {},
     "output_type": "execute_result"
    }
   ],
   "source": [
    "list(d7.values())"
   ]
  },
  {
   "cell_type": "code",
   "execution_count": 62,
   "id": "bda8b458-3308-4a33-bcca-529c001eb987",
   "metadata": {},
   "outputs": [
    {
     "data": {
      "text/plain": [
       "(1, 2, 3, 4, 5)"
      ]
     },
     "execution_count": 62,
     "metadata": {},
     "output_type": "execute_result"
    }
   ],
   "source": [
    "d7.pop('assignment')"
   ]
  },
  {
   "cell_type": "code",
   "execution_count": 63,
   "id": "6c99a05b-6a7e-4a7c-a796-e854a9ca262e",
   "metadata": {},
   "outputs": [
    {
     "data": {
      "text/plain": [
       "{'launchdate': {2, 4, 6},\n",
       " 'class_time': {'wevdev': 8, 'data_science': 7},\n",
       " 'mentor': ['anurag', 'gautam', 'siddharth']}"
      ]
     },
     "execution_count": 63,
     "metadata": {},
     "output_type": "execute_result"
    }
   ],
   "source": [
    "d7"
   ]
  },
  {
   "cell_type": "code",
   "execution_count": 64,
   "id": "78fcd0c0-9905-40d3-af59-17274e036ab5",
   "metadata": {},
   "outputs": [
    {
     "ename": "TypeError",
     "evalue": "pop expected at least 1 argument, got 0",
     "output_type": "error",
     "traceback": [
      "\u001b[0;31m---------------------------------------------------------------------------\u001b[0m",
      "\u001b[0;31mTypeError\u001b[0m                                 Traceback (most recent call last)",
      "Cell \u001b[0;32mIn[64], line 1\u001b[0m\n\u001b[0;32m----> 1\u001b[0m \u001b[43md7\u001b[49m\u001b[38;5;241;43m.\u001b[39;49m\u001b[43mpop\u001b[49m\u001b[43m(\u001b[49m\u001b[43m)\u001b[49m\n",
      "\u001b[0;31mTypeError\u001b[0m: pop expected at least 1 argument, got 0"
     ]
    }
   ],
   "source": [
    "d7.pop()"
   ]
  },
  {
   "cell_type": "code",
   "execution_count": 79,
   "id": "32511b43-b7dd-411b-bfdf-d9c4ba5b6b4a",
   "metadata": {
    "tags": []
   },
   "outputs": [
    {
     "name": "stdin",
     "output_type": "stream",
     "text": [
      "enter your marks 79.99\n"
     ]
    },
    {
     "name": "stdout",
     "output_type": "stream",
     "text": [
      "you will be part of A1 batch\n"
     ]
    }
   ],
   "source": [
    "marks=float(input(\"enter your marks\"))\n",
    "if marks>=80:\n",
    "    print('you will be a part of A0 batch')\n",
    "elif marks>=60 and marks<80:\n",
    "    print('you will be part of A1 batch')\n",
    "elif marks>=40 and marks<60:\n",
    "    print('you will be part of A2 batch')\n",
    "else:\n",
    "    print('you will be part of A3 batch')"
   ]
  },
  {
   "cell_type": "code",
   "execution_count": 80,
   "id": "402f0566-f4d6-46cd-b299-78b0eea158e4",
   "metadata": {},
   "outputs": [
    {
     "data": {
      "text/plain": [
       "float"
      ]
     },
     "execution_count": 80,
     "metadata": {},
     "output_type": "execute_result"
    }
   ],
   "source": [
    "type(marks)"
   ]
  },
  {
   "cell_type": "code",
   "execution_count": 89,
   "id": "3063746e-141a-4e92-8a2a-39ffe7de6c8b",
   "metadata": {},
   "outputs": [
    {
     "name": "stdin",
     "output_type": "stream",
     "text": [
      "enter price: 490\n"
     ]
    },
    {
     "name": "stdout",
     "output_type": "stream",
     "text": [
      "i will purchesed\n"
     ]
    }
   ],
   "source": [
    "price=int(input(\"enter price:\"))\n",
    "if price >1000:\n",
    "    print('i will not purchesed')\n",
    "    if price>5000:\n",
    "        print(\"this is too much\")\n",
    "    elif price<2000:\n",
    "        print(\"its okk\")\n",
    "elif price<1000 and price>=500:\n",
    "    print(\"i will call to mumyy for permission\")\n",
    "else:\n",
    "    print('i will purchesed')\n"
   ]
  },
  {
   "cell_type": "code",
   "execution_count": 90,
   "id": "06fe5d2e-b55c-46ca-ae3d-df192e72e713",
   "metadata": {},
   "outputs": [],
   "source": [
    "l=[1,2,3,4,5,6,7,8,9]"
   ]
  },
  {
   "cell_type": "code",
   "execution_count": 92,
   "id": "26c9e335-dd27-485e-bb11-5e63a7a76b5b",
   "metadata": {},
   "outputs": [
    {
     "data": {
      "text/plain": [
       "1"
      ]
     },
     "execution_count": 92,
     "metadata": {},
     "output_type": "execute_result"
    }
   ],
   "source": [
    "l[0]"
   ]
  },
  {
   "cell_type": "code",
   "execution_count": 93,
   "id": "cc5bf3fb-9cb4-4bfc-ad70-003e45c34023",
   "metadata": {},
   "outputs": [
    {
     "data": {
      "text/plain": [
       "2"
      ]
     },
     "execution_count": 93,
     "metadata": {},
     "output_type": "execute_result"
    }
   ],
   "source": [
    "l[0]+1"
   ]
  },
  {
   "cell_type": "code",
   "execution_count": 94,
   "id": "2c46ed52-216f-4a67-96be-b1faedb54e3d",
   "metadata": {},
   "outputs": [],
   "source": [
    "l1=[]"
   ]
  },
  {
   "cell_type": "code",
   "execution_count": 95,
   "id": "8d804e28-a401-49c3-9eb6-ae41c69babeb",
   "metadata": {},
   "outputs": [],
   "source": [
    "l1.append(l[0]+1)"
   ]
  },
  {
   "cell_type": "code",
   "execution_count": 96,
   "id": "414bd1db-38b6-4789-b6f8-45ccffc2855b",
   "metadata": {},
   "outputs": [
    {
     "data": {
      "text/plain": [
       "[2]"
      ]
     },
     "execution_count": 96,
     "metadata": {},
     "output_type": "execute_result"
    }
   ],
   "source": [
    "l1"
   ]
  },
  {
   "cell_type": "code",
   "execution_count": 97,
   "id": "fd8433b6-a43f-4556-b9dd-624a289974f4",
   "metadata": {},
   "outputs": [
    {
     "data": {
      "text/plain": [
       "[1, 2, 3, 4, 5, 6, 7, 8, 9]"
      ]
     },
     "execution_count": 97,
     "metadata": {},
     "output_type": "execute_result"
    }
   ],
   "source": [
    "l"
   ]
  },
  {
   "cell_type": "code",
   "execution_count": 101,
   "id": "f79fa9db-7bd4-4dff-a765-65a1abebde6e",
   "metadata": {},
   "outputs": [
    {
     "name": "stdout",
     "output_type": "stream",
     "text": [
      "2\n",
      "3\n",
      "4\n",
      "5\n",
      "6\n",
      "7\n",
      "8\n",
      "9\n",
      "10\n"
     ]
    },
    {
     "data": {
      "text/plain": [
       "[2, 3, 4, 5, 6, 7, 8, 9, 10]"
      ]
     },
     "execution_count": 101,
     "metadata": {},
     "output_type": "execute_result"
    }
   ],
   "source": [
    "l1=[]\n",
    "for i in l:\n",
    "    print(i+1)\n",
    "    l1.append(i+1)\n",
    "l1    \n",
    "    "
   ]
  },
  {
   "cell_type": "code",
   "execution_count": 135,
   "id": "b428473e-6849-4200-ac65-26ef06510351",
   "metadata": {},
   "outputs": [],
   "source": [
    "l=['sandeep','pwskills','data']"
   ]
  },
  {
   "cell_type": "code",
   "execution_count": 129,
   "id": "5e37098e-5609-4fbc-97cd-b93ed3611945",
   "metadata": {},
   "outputs": [
    {
     "data": {
      "text/plain": [
       "[]"
      ]
     },
     "execution_count": 129,
     "metadata": {},
     "output_type": "execute_result"
    }
   ],
   "source": []
  },
  {
   "cell_type": "code",
   "execution_count": 130,
   "id": "cfc4214b-30f5-4792-b897-f1f922aaecf2",
   "metadata": {},
   "outputs": [],
   "source": [
    "l=[1,2,3,4,4,'sandi',324,34.56,'abc','nishad']"
   ]
  },
  {
   "cell_type": "code",
   "execution_count": 131,
   "id": "5a25dc17-0637-456a-8aef-c3c3dd40865a",
   "metadata": {},
   "outputs": [],
   "source": [
    "l1_num=[]\n",
    "l2_str=[]\n",
    "for i in l:\n",
    "    if type(i)== int or type(i)==float:\n",
    "        l1_num.append(i)\n",
    "    else:\n",
    "        l2_str.append(i)\n",
    "        \n",
    "    "
   ]
  },
  {
   "cell_type": "code",
   "execution_count": 132,
   "id": "861a98f9-78f4-4423-9f2e-0c1ad847f80f",
   "metadata": {},
   "outputs": [
    {
     "data": {
      "text/plain": [
       "[1, 2, 3, 4, 4, 324, 34.56]"
      ]
     },
     "execution_count": 132,
     "metadata": {},
     "output_type": "execute_result"
    }
   ],
   "source": [
    "l1_num"
   ]
  },
  {
   "cell_type": "code",
   "execution_count": 133,
   "id": "b63feb2b-4484-45e8-a352-f1713568167b",
   "metadata": {},
   "outputs": [
    {
     "data": {
      "text/plain": [
       "['sandi', 'abc', 'nishad']"
      ]
     },
     "execution_count": 133,
     "metadata": {},
     "output_type": "execute_result"
    }
   ],
   "source": [
    "l2_str"
   ]
  },
  {
   "cell_type": "code",
   "execution_count": 136,
   "id": "3c36c95e-a6f4-4abd-a943-760b6ebad28c",
   "metadata": {},
   "outputs": [
    {
     "data": {
      "text/plain": [
       "['sandi', 'abc', 'nishad']"
      ]
     },
     "execution_count": 136,
     "metadata": {},
     "output_type": "execute_result"
    }
   ],
   "source": [
    "l2_str"
   ]
  },
  {
   "cell_type": "code",
   "execution_count": 137,
   "id": "a8a8973d-651f-438a-bc63-5b64b2f81a27",
   "metadata": {},
   "outputs": [],
   "source": [
    "l=['sandi','babu','lalu']"
   ]
  },
  {
   "cell_type": "code",
   "execution_count": 139,
   "id": "23e0675d-8847-4f7a-a341-6adbd9d0dcec",
   "metadata": {},
   "outputs": [
    {
     "name": "stdout",
     "output_type": "stream",
     "text": [
      "sandi\n",
      "babu\n",
      "lalu\n"
     ]
    }
   ],
   "source": [
    "l1=[]\n",
    "for i in l:\n",
    "    print(i)\n",
    "    l1.append(i.upper())\n",
    "    "
   ]
  },
  {
   "cell_type": "code",
   "execution_count": 140,
   "id": "1774ee88-5f47-4d12-ae7f-b1b300287850",
   "metadata": {},
   "outputs": [
    {
     "data": {
      "text/plain": [
       "['SANDI', 'BABU', 'LALU']"
      ]
     },
     "execution_count": 140,
     "metadata": {},
     "output_type": "execute_result"
    }
   ],
   "source": [
    "l1"
   ]
  },
  {
   "cell_type": "code",
   "execution_count": null,
   "id": "00763de8-c34b-45ad-8538-9963230cabe3",
   "metadata": {},
   "outputs": [],
   "source": []
  }
 ],
 "metadata": {
  "kernelspec": {
   "display_name": "Python 3 (ipykernel)",
   "language": "python",
   "name": "python3"
  },
  "language_info": {
   "codemirror_mode": {
    "name": "ipython",
    "version": 3
   },
   "file_extension": ".py",
   "mimetype": "text/x-python",
   "name": "python",
   "nbconvert_exporter": "python",
   "pygments_lexer": "ipython3",
   "version": "3.10.8"
  }
 },
 "nbformat": 4,
 "nbformat_minor": 5
}
